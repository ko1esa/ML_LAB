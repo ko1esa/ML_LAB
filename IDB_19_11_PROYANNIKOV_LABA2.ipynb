{
 "cells": [
  {
   "cell_type": "markdown",
   "id": "0956cd3a-b877-4610-b8d5-161a2d581d36",
   "metadata": {
    "tags": []
   },
   "source": [
    "## Проянников Илья ИДБ-19-11 Лабораторная работа №2"
   ]
  },
  {
   "cell_type": "markdown",
   "id": "8a02a2f7-252c-4ea5-b34f-a2166c946de5",
   "metadata": {
    "tags": []
   },
   "source": [
    "### Импорт библиотек"
   ]
  },
  {
   "cell_type": "code",
   "execution_count": 53,
   "id": "226074f3-165b-42a0-a4da-8372392e5b89",
   "metadata": {
    "tags": []
   },
   "outputs": [],
   "source": [
    "import numpy as np\n",
    "import pandas as pd\n",
    "import matplotlib.pyplot as plt\n",
    "from matplotlib.colors import ListedColormap\n",
    "from sklearn.linear_model import LinearRegression, LogisticRegression\n",
    "from sklearn.metrics import r2_score, mean_squared_error, accuracy_score\n",
    "import seaborn as sns\n",
    "from sklearn.model_selection import train_test_split\n",
    "\n",
    "plt.style.use(\"seaborn\")"
   ]
  },
  {
   "cell_type": "markdown",
   "id": "437db89d-4fda-460a-b735-bd7ddd7df64b",
   "metadata": {
    "tags": []
   },
   "source": [
    "## Часть 1"
   ]
  },
  {
   "cell_type": "markdown",
   "id": "c83e56ae-8936-42b6-9a78-63fa1f5c7590",
   "metadata": {
    "jp-MarkdownHeadingCollapsed": true,
    "tags": []
   },
   "source": [
    "### Задание 3"
   ]
  },
  {
   "cell_type": "markdown",
   "id": "4bab7a2c-19c3-4376-b350-5b1aca0177ba",
   "metadata": {
    "tags": []
   },
   "source": [
    "#### Пункт 1"
   ]
  },
  {
   "cell_type": "code",
   "execution_count": 2,
   "id": "eb713aac-3548-4dd6-81f3-221b9bb56784",
   "metadata": {},
   "outputs": [
    {
     "data": {
      "text/html": [
       "<div>\n",
       "<style scoped>\n",
       "    .dataframe tbody tr th:only-of-type {\n",
       "        vertical-align: middle;\n",
       "    }\n",
       "\n",
       "    .dataframe tbody tr th {\n",
       "        vertical-align: top;\n",
       "    }\n",
       "\n",
       "    .dataframe thead th {\n",
       "        text-align: right;\n",
       "    }\n",
       "</style>\n",
       "<table border=\"1\" class=\"dataframe\">\n",
       "  <thead>\n",
       "    <tr style=\"text-align: right;\">\n",
       "      <th></th>\n",
       "      <th>longitude</th>\n",
       "      <th>latitude</th>\n",
       "      <th>housing_median_age</th>\n",
       "      <th>total_rooms</th>\n",
       "      <th>total_bedrooms</th>\n",
       "      <th>population</th>\n",
       "      <th>households</th>\n",
       "      <th>median_income</th>\n",
       "      <th>median_house_value</th>\n",
       "      <th>ocean_proximity</th>\n",
       "    </tr>\n",
       "  </thead>\n",
       "  <tbody>\n",
       "    <tr>\n",
       "      <th>0</th>\n",
       "      <td>-122.23</td>\n",
       "      <td>37.88</td>\n",
       "      <td>41.0</td>\n",
       "      <td>880.0</td>\n",
       "      <td>129.0</td>\n",
       "      <td>322.0</td>\n",
       "      <td>126.0</td>\n",
       "      <td>8.3252</td>\n",
       "      <td>452600.0</td>\n",
       "      <td>NEAR BAY</td>\n",
       "    </tr>\n",
       "    <tr>\n",
       "      <th>1</th>\n",
       "      <td>-122.22</td>\n",
       "      <td>37.86</td>\n",
       "      <td>21.0</td>\n",
       "      <td>7099.0</td>\n",
       "      <td>1106.0</td>\n",
       "      <td>2401.0</td>\n",
       "      <td>1138.0</td>\n",
       "      <td>8.3014</td>\n",
       "      <td>358500.0</td>\n",
       "      <td>NEAR BAY</td>\n",
       "    </tr>\n",
       "    <tr>\n",
       "      <th>2</th>\n",
       "      <td>-122.24</td>\n",
       "      <td>37.85</td>\n",
       "      <td>52.0</td>\n",
       "      <td>1467.0</td>\n",
       "      <td>190.0</td>\n",
       "      <td>496.0</td>\n",
       "      <td>177.0</td>\n",
       "      <td>7.2574</td>\n",
       "      <td>352100.0</td>\n",
       "      <td>NEAR BAY</td>\n",
       "    </tr>\n",
       "    <tr>\n",
       "      <th>3</th>\n",
       "      <td>-122.25</td>\n",
       "      <td>37.85</td>\n",
       "      <td>52.0</td>\n",
       "      <td>1274.0</td>\n",
       "      <td>235.0</td>\n",
       "      <td>558.0</td>\n",
       "      <td>219.0</td>\n",
       "      <td>5.6431</td>\n",
       "      <td>341300.0</td>\n",
       "      <td>NEAR BAY</td>\n",
       "    </tr>\n",
       "    <tr>\n",
       "      <th>4</th>\n",
       "      <td>-122.25</td>\n",
       "      <td>37.85</td>\n",
       "      <td>52.0</td>\n",
       "      <td>1627.0</td>\n",
       "      <td>280.0</td>\n",
       "      <td>565.0</td>\n",
       "      <td>259.0</td>\n",
       "      <td>3.8462</td>\n",
       "      <td>342200.0</td>\n",
       "      <td>NEAR BAY</td>\n",
       "    </tr>\n",
       "  </tbody>\n",
       "</table>\n",
       "</div>"
      ],
      "text/plain": [
       "   longitude  latitude  housing_median_age  total_rooms  total_bedrooms  \\\n",
       "0    -122.23     37.88                41.0        880.0           129.0   \n",
       "1    -122.22     37.86                21.0       7099.0          1106.0   \n",
       "2    -122.24     37.85                52.0       1467.0           190.0   \n",
       "3    -122.25     37.85                52.0       1274.0           235.0   \n",
       "4    -122.25     37.85                52.0       1627.0           280.0   \n",
       "\n",
       "   population  households  median_income  median_house_value ocean_proximity  \n",
       "0       322.0       126.0         8.3252            452600.0        NEAR BAY  \n",
       "1      2401.0      1138.0         8.3014            358500.0        NEAR BAY  \n",
       "2       496.0       177.0         7.2574            352100.0        NEAR BAY  \n",
       "3       558.0       219.0         5.6431            341300.0        NEAR BAY  \n",
       "4       565.0       259.0         3.8462            342200.0        NEAR BAY  "
      ]
     },
     "execution_count": 2,
     "metadata": {},
     "output_type": "execute_result"
    }
   ],
   "source": [
    "df = pd.read_csv(\"housing.csv\")\n",
    "df.head()"
   ]
  },
  {
   "cell_type": "code",
   "execution_count": 3,
   "id": "21b2b289-da93-4169-bef4-1e0fe5c53195",
   "metadata": {},
   "outputs": [
    {
     "data": {
      "text/plain": [
       "((18576, 10), (2064, 10))"
      ]
     },
     "execution_count": 3,
     "metadata": {},
     "output_type": "execute_result"
    }
   ],
   "source": [
    "train_validation, test = train_test_split(df, test_size = 0.1)\n",
    "train_validation.shape, test.shape"
   ]
  },
  {
   "cell_type": "code",
   "execution_count": 4,
   "id": "33e4ec28-1c01-4887-8a51-fbe6509e375e",
   "metadata": {},
   "outputs": [
    {
     "data": {
      "text/plain": [
       "((16718, 10), (1858, 10))"
      ]
     },
     "execution_count": 4,
     "metadata": {},
     "output_type": "execute_result"
    }
   ],
   "source": [
    "train, validation = train_test_split(train_validation, test_size = 0.1)\n",
    "train.shape, validation.shape"
   ]
  },
  {
   "cell_type": "markdown",
   "id": "0e706168-6455-4eca-a9fc-eaba6c6273db",
   "metadata": {
    "tags": []
   },
   "source": [
    "#### Пункт 2"
   ]
  },
  {
   "cell_type": "code",
   "execution_count": 5,
   "id": "b983cd4b-24e5-42a4-9595-1f8bc0be7f42",
   "metadata": {},
   "outputs": [],
   "source": [
    "train = pd.get_dummies(train, columns=[\"ocean_proximity\"])\n",
    "validation = pd.get_dummies(validation, columns=[\"ocean_proximity\"])\n",
    "test = pd.get_dummies(test, columns=[\"ocean_proximity\"])"
   ]
  },
  {
   "cell_type": "markdown",
   "id": "c9740545-946d-4ca2-8c55-5334c63f8e0c",
   "metadata": {
    "tags": []
   },
   "source": [
    "#### Пункт 3"
   ]
  },
  {
   "cell_type": "code",
   "execution_count": 6,
   "id": "80648429-b54e-4e61-8107-fc746faf3dc7",
   "metadata": {},
   "outputs": [],
   "source": [
    "train[\"average_rooms\"] = train[\"total_rooms\"] / train[\"households\"]\n",
    "train[\"average_bedrooms\"] = train[\"total_bedrooms\"] / train[\"households\"]\n",
    "\n",
    "validation[\"average_rooms\"] = validation[\"total_rooms\"] / validation[\"households\"]\n",
    "validation[\"average_bedrooms\"] = validation[\"total_bedrooms\"] / validation[\"households\"]\n",
    "\n",
    "test[\"average_rooms\"] = test[\"total_rooms\"] / test[\"households\"]\n",
    "test[\"average_bedrooms\"] = test[\"total_bedrooms\"] / test[\"households\"]"
   ]
  },
  {
   "cell_type": "markdown",
   "id": "b57030f2-682b-4da6-8a16-1e1295f6454c",
   "metadata": {
    "tags": []
   },
   "source": [
    "#### Пункт 4"
   ]
  },
  {
   "cell_type": "code",
   "execution_count": 7,
   "id": "6c0983fd-a1e8-4e8a-88b6-a036bc388dbf",
   "metadata": {},
   "outputs": [
    {
     "data": {
      "text/plain": [
       "(longitude                       0\n",
       " latitude                        0\n",
       " housing_median_age              0\n",
       " total_rooms                     0\n",
       " total_bedrooms                174\n",
       " population                      0\n",
       " households                      0\n",
       " median_income                   0\n",
       " median_house_value              0\n",
       " ocean_proximity_<1H OCEAN       0\n",
       " ocean_proximity_INLAND          0\n",
       " ocean_proximity_ISLAND          0\n",
       " ocean_proximity_NEAR BAY        0\n",
       " ocean_proximity_NEAR OCEAN      0\n",
       " average_rooms                   0\n",
       " average_bedrooms              174\n",
       " dtype: int64,\n",
       " longitude                      0\n",
       " latitude                       0\n",
       " housing_median_age             0\n",
       " total_rooms                    0\n",
       " total_bedrooms                13\n",
       " population                     0\n",
       " households                     0\n",
       " median_income                  0\n",
       " median_house_value             0\n",
       " ocean_proximity_<1H OCEAN      0\n",
       " ocean_proximity_INLAND         0\n",
       " ocean_proximity_ISLAND         0\n",
       " ocean_proximity_NEAR BAY       0\n",
       " ocean_proximity_NEAR OCEAN     0\n",
       " average_rooms                  0\n",
       " average_bedrooms              13\n",
       " dtype: int64,\n",
       " longitude                      0\n",
       " latitude                       0\n",
       " housing_median_age             0\n",
       " total_rooms                    0\n",
       " total_bedrooms                20\n",
       " population                     0\n",
       " households                     0\n",
       " median_income                  0\n",
       " median_house_value             0\n",
       " ocean_proximity_<1H OCEAN      0\n",
       " ocean_proximity_INLAND         0\n",
       " ocean_proximity_NEAR BAY       0\n",
       " ocean_proximity_NEAR OCEAN     0\n",
       " average_rooms                  0\n",
       " average_bedrooms              20\n",
       " dtype: int64)"
      ]
     },
     "execution_count": 7,
     "metadata": {},
     "output_type": "execute_result"
    }
   ],
   "source": [
    "train.isna().sum(), validation.isna().sum(), test.isna().sum()"
   ]
  },
  {
   "cell_type": "code",
   "execution_count": 8,
   "id": "e9b8807d-c871-4436-b6c6-ac5611e8e42e",
   "metadata": {},
   "outputs": [],
   "source": [
    "mean_value = train[\"average_bedrooms\"].mean()"
   ]
  },
  {
   "cell_type": "code",
   "execution_count": 9,
   "id": "18516511-b840-4309-9730-233c1a87d8d2",
   "metadata": {},
   "outputs": [],
   "source": [
    "train.fillna(value = mean_value, inplace=True)\n",
    "test.fillna(value = mean_value, inplace = True)\n",
    "validation.fillna(value = mean_value, inplace=True)"
   ]
  },
  {
   "cell_type": "markdown",
   "id": "6618ef3a-17eb-4767-8751-baf81169e01f",
   "metadata": {
    "tags": []
   },
   "source": [
    "#### Пункт 5"
   ]
  },
  {
   "cell_type": "code",
   "execution_count": 10,
   "id": "39546042-f91d-49fb-bb64-0180cc9871bf",
   "metadata": {},
   "outputs": [],
   "source": [
    "from sklearn.preprocessing import StandardScaler"
   ]
  },
  {
   "cell_type": "code",
   "execution_count": 11,
   "id": "83127d63-24e7-4078-bbd6-2e549ca5bb0c",
   "metadata": {},
   "outputs": [],
   "source": [
    "scaler = StandardScaler()"
   ]
  },
  {
   "cell_type": "code",
   "execution_count": 12,
   "id": "90c4ae33-6a75-4660-bea4-171cc38917a2",
   "metadata": {},
   "outputs": [],
   "source": [
    "train.loc[:, 'longitude':'latitude'] = scaler.fit_transform(train.loc[:, 'longitude':'latitude'].to_numpy());\n",
    "validation.loc[:, 'longitude':'latitude'] = scaler.transform(validation.loc[:, 'longitude':'latitude'].to_numpy());\n",
    "test.loc[:, 'longitude':'latitude'] = scaler.transform(test.loc[:, 'longitude':'latitude'].to_numpy());"
   ]
  },
  {
   "cell_type": "markdown",
   "id": "75795e72-a378-4245-9529-84ad14a5cbab",
   "metadata": {
    "tags": []
   },
   "source": [
    "## Часть 2"
   ]
  },
  {
   "cell_type": "markdown",
   "id": "4faff220-fa37-4eb0-b2e8-d1d3f4bbad29",
   "metadata": {},
   "source": [
    "### Задание 1"
   ]
  },
  {
   "cell_type": "markdown",
   "id": "87d39c11-ba2b-4497-b0b6-19d99ab5d4bf",
   "metadata": {},
   "source": [
    "#### Пункт 1"
   ]
  },
  {
   "cell_type": "code",
   "execution_count": 13,
   "id": "d1e5bc67-bdc9-4bc5-8951-a5534b99fcbf",
   "metadata": {},
   "outputs": [
    {
     "data": {
      "text/html": [
       "<div>\n",
       "<style scoped>\n",
       "    .dataframe tbody tr th:only-of-type {\n",
       "        vertical-align: middle;\n",
       "    }\n",
       "\n",
       "    .dataframe tbody tr th {\n",
       "        vertical-align: top;\n",
       "    }\n",
       "\n",
       "    .dataframe thead th {\n",
       "        text-align: right;\n",
       "    }\n",
       "</style>\n",
       "<table border=\"1\" class=\"dataframe\">\n",
       "  <thead>\n",
       "    <tr style=\"text-align: right;\">\n",
       "      <th></th>\n",
       "      <th>Unnamed: 0</th>\n",
       "      <th>sex</th>\n",
       "      <th>weight</th>\n",
       "      <th>height</th>\n",
       "      <th>repwt</th>\n",
       "      <th>repht</th>\n",
       "    </tr>\n",
       "  </thead>\n",
       "  <tbody>\n",
       "    <tr>\n",
       "      <th>0</th>\n",
       "      <td>1</td>\n",
       "      <td>M</td>\n",
       "      <td>77</td>\n",
       "      <td>182</td>\n",
       "      <td>77.0</td>\n",
       "      <td>180.0</td>\n",
       "    </tr>\n",
       "    <tr>\n",
       "      <th>1</th>\n",
       "      <td>2</td>\n",
       "      <td>F</td>\n",
       "      <td>58</td>\n",
       "      <td>161</td>\n",
       "      <td>51.0</td>\n",
       "      <td>159.0</td>\n",
       "    </tr>\n",
       "    <tr>\n",
       "      <th>2</th>\n",
       "      <td>3</td>\n",
       "      <td>F</td>\n",
       "      <td>53</td>\n",
       "      <td>161</td>\n",
       "      <td>54.0</td>\n",
       "      <td>158.0</td>\n",
       "    </tr>\n",
       "    <tr>\n",
       "      <th>3</th>\n",
       "      <td>4</td>\n",
       "      <td>M</td>\n",
       "      <td>68</td>\n",
       "      <td>177</td>\n",
       "      <td>70.0</td>\n",
       "      <td>175.0</td>\n",
       "    </tr>\n",
       "    <tr>\n",
       "      <th>4</th>\n",
       "      <td>5</td>\n",
       "      <td>F</td>\n",
       "      <td>59</td>\n",
       "      <td>157</td>\n",
       "      <td>59.0</td>\n",
       "      <td>155.0</td>\n",
       "    </tr>\n",
       "  </tbody>\n",
       "</table>\n",
       "</div>"
      ],
      "text/plain": [
       "   Unnamed: 0 sex  weight  height  repwt  repht\n",
       "0           1   M      77     182   77.0  180.0\n",
       "1           2   F      58     161   51.0  159.0\n",
       "2           3   F      53     161   54.0  158.0\n",
       "3           4   M      68     177   70.0  175.0\n",
       "4           5   F      59     157   59.0  155.0"
      ]
     },
     "execution_count": 13,
     "metadata": {},
     "output_type": "execute_result"
    }
   ],
   "source": [
    "davis_df = pd.read_csv(\"Davis.csv\")\n",
    "davis_df.head()"
   ]
  },
  {
   "cell_type": "code",
   "execution_count": 14,
   "id": "0a621497-c2d2-46f8-a144-cff83dadb1a1",
   "metadata": {},
   "outputs": [
    {
     "data": {
      "text/html": [
       "<div>\n",
       "<style scoped>\n",
       "    .dataframe tbody tr th:only-of-type {\n",
       "        vertical-align: middle;\n",
       "    }\n",
       "\n",
       "    .dataframe tbody tr th {\n",
       "        vertical-align: top;\n",
       "    }\n",
       "\n",
       "    .dataframe thead th {\n",
       "        text-align: right;\n",
       "    }\n",
       "</style>\n",
       "<table border=\"1\" class=\"dataframe\">\n",
       "  <thead>\n",
       "    <tr style=\"text-align: right;\">\n",
       "      <th></th>\n",
       "      <th>sex</th>\n",
       "      <th>weight</th>\n",
       "      <th>height</th>\n",
       "      <th>repwt</th>\n",
       "      <th>repht</th>\n",
       "    </tr>\n",
       "  </thead>\n",
       "  <tbody>\n",
       "    <tr>\n",
       "      <th>0</th>\n",
       "      <td>M</td>\n",
       "      <td>77</td>\n",
       "      <td>182</td>\n",
       "      <td>77.0</td>\n",
       "      <td>180.0</td>\n",
       "    </tr>\n",
       "    <tr>\n",
       "      <th>1</th>\n",
       "      <td>F</td>\n",
       "      <td>58</td>\n",
       "      <td>161</td>\n",
       "      <td>51.0</td>\n",
       "      <td>159.0</td>\n",
       "    </tr>\n",
       "    <tr>\n",
       "      <th>2</th>\n",
       "      <td>F</td>\n",
       "      <td>53</td>\n",
       "      <td>161</td>\n",
       "      <td>54.0</td>\n",
       "      <td>158.0</td>\n",
       "    </tr>\n",
       "    <tr>\n",
       "      <th>3</th>\n",
       "      <td>M</td>\n",
       "      <td>68</td>\n",
       "      <td>177</td>\n",
       "      <td>70.0</td>\n",
       "      <td>175.0</td>\n",
       "    </tr>\n",
       "    <tr>\n",
       "      <th>4</th>\n",
       "      <td>F</td>\n",
       "      <td>59</td>\n",
       "      <td>157</td>\n",
       "      <td>59.0</td>\n",
       "      <td>155.0</td>\n",
       "    </tr>\n",
       "  </tbody>\n",
       "</table>\n",
       "</div>"
      ],
      "text/plain": [
       "  sex  weight  height  repwt  repht\n",
       "0   M      77     182   77.0  180.0\n",
       "1   F      58     161   51.0  159.0\n",
       "2   F      53     161   54.0  158.0\n",
       "3   M      68     177   70.0  175.0\n",
       "4   F      59     157   59.0  155.0"
      ]
     },
     "execution_count": 14,
     "metadata": {},
     "output_type": "execute_result"
    }
   ],
   "source": [
    "davis_df.drop(\"Unnamed: 0\", axis=1, inplace=True)\n",
    "davis_df.head()"
   ]
  },
  {
   "cell_type": "code",
   "execution_count": 15,
   "id": "ddf77ed5-4daf-413e-b057-9fad25046cc4",
   "metadata": {},
   "outputs": [
    {
     "data": {
      "text/plain": [
       "sex       0.000000\n",
       "weight    0.000000\n",
       "height    0.000000\n",
       "repwt     0.082364\n",
       "repht     0.082364\n",
       "dtype: float64"
      ]
     },
     "execution_count": 15,
     "metadata": {},
     "output_type": "execute_result"
    }
   ],
   "source": [
    "davis_df.isna().sum() / len(df) * 100"
   ]
  },
  {
   "cell_type": "code",
   "execution_count": 16,
   "id": "8725fb17-ce52-41fc-be17-29408b7c1f69",
   "metadata": {},
   "outputs": [
    {
     "data": {
      "text/html": [
       "<div>\n",
       "<style scoped>\n",
       "    .dataframe tbody tr th:only-of-type {\n",
       "        vertical-align: middle;\n",
       "    }\n",
       "\n",
       "    .dataframe tbody tr th {\n",
       "        vertical-align: top;\n",
       "    }\n",
       "\n",
       "    .dataframe thead th {\n",
       "        text-align: right;\n",
       "    }\n",
       "</style>\n",
       "<table border=\"1\" class=\"dataframe\">\n",
       "  <thead>\n",
       "    <tr style=\"text-align: right;\">\n",
       "      <th></th>\n",
       "      <th>sex</th>\n",
       "      <th>weight</th>\n",
       "      <th>height</th>\n",
       "    </tr>\n",
       "  </thead>\n",
       "  <tbody>\n",
       "    <tr>\n",
       "      <th>0</th>\n",
       "      <td>M</td>\n",
       "      <td>77</td>\n",
       "      <td>182</td>\n",
       "    </tr>\n",
       "    <tr>\n",
       "      <th>1</th>\n",
       "      <td>F</td>\n",
       "      <td>58</td>\n",
       "      <td>161</td>\n",
       "    </tr>\n",
       "    <tr>\n",
       "      <th>2</th>\n",
       "      <td>F</td>\n",
       "      <td>53</td>\n",
       "      <td>161</td>\n",
       "    </tr>\n",
       "    <tr>\n",
       "      <th>3</th>\n",
       "      <td>M</td>\n",
       "      <td>68</td>\n",
       "      <td>177</td>\n",
       "    </tr>\n",
       "    <tr>\n",
       "      <th>4</th>\n",
       "      <td>F</td>\n",
       "      <td>59</td>\n",
       "      <td>157</td>\n",
       "    </tr>\n",
       "    <tr>\n",
       "      <th>...</th>\n",
       "      <td>...</td>\n",
       "      <td>...</td>\n",
       "      <td>...</td>\n",
       "    </tr>\n",
       "    <tr>\n",
       "      <th>195</th>\n",
       "      <td>M</td>\n",
       "      <td>74</td>\n",
       "      <td>175</td>\n",
       "    </tr>\n",
       "    <tr>\n",
       "      <th>196</th>\n",
       "      <td>M</td>\n",
       "      <td>83</td>\n",
       "      <td>180</td>\n",
       "    </tr>\n",
       "    <tr>\n",
       "      <th>197</th>\n",
       "      <td>M</td>\n",
       "      <td>81</td>\n",
       "      <td>175</td>\n",
       "    </tr>\n",
       "    <tr>\n",
       "      <th>198</th>\n",
       "      <td>M</td>\n",
       "      <td>90</td>\n",
       "      <td>181</td>\n",
       "    </tr>\n",
       "    <tr>\n",
       "      <th>199</th>\n",
       "      <td>M</td>\n",
       "      <td>79</td>\n",
       "      <td>177</td>\n",
       "    </tr>\n",
       "  </tbody>\n",
       "</table>\n",
       "<p>200 rows × 3 columns</p>\n",
       "</div>"
      ],
      "text/plain": [
       "    sex  weight  height\n",
       "0     M      77     182\n",
       "1     F      58     161\n",
       "2     F      53     161\n",
       "3     M      68     177\n",
       "4     F      59     157\n",
       "..   ..     ...     ...\n",
       "195   M      74     175\n",
       "196   M      83     180\n",
       "197   M      81     175\n",
       "198   M      90     181\n",
       "199   M      79     177\n",
       "\n",
       "[200 rows x 3 columns]"
      ]
     },
     "execution_count": 16,
     "metadata": {},
     "output_type": "execute_result"
    }
   ],
   "source": [
    "davis_df.drop([\"repwt\", \"repht\"], axis=1)"
   ]
  },
  {
   "cell_type": "code",
   "execution_count": 17,
   "id": "5d78144f-01a3-4729-8f89-60eeaafee08d",
   "metadata": {},
   "outputs": [],
   "source": [
    "davis_df = davis_df[np.logical_and(davis_df['height'] > 100, davis_df['weight'] < 150)]"
   ]
  },
  {
   "cell_type": "markdown",
   "id": "d871c9f4-7a59-49c6-a5d7-e33e25c97134",
   "metadata": {},
   "source": [
    "#### Пункт 2"
   ]
  },
  {
   "cell_type": "code",
   "execution_count": 18,
   "id": "b28ed1a4-2539-42eb-8ef6-adbe3dd4a87e",
   "metadata": {},
   "outputs": [],
   "source": [
    "from sklearn.model_selection import train_test_split"
   ]
  },
  {
   "cell_type": "code",
   "execution_count": 19,
   "id": "4f7ed927-5093-47cd-a7fa-b16cfaa044dc",
   "metadata": {},
   "outputs": [
    {
     "data": {
      "text/plain": [
       "((149, 5), (50, 5))"
      ]
     },
     "execution_count": 19,
     "metadata": {},
     "output_type": "execute_result"
    }
   ],
   "source": [
    "train, test = train_test_split(davis_df, test_size=50)\n",
    "train.shape, test.shape"
   ]
  },
  {
   "cell_type": "markdown",
   "id": "dc9515c0-17ee-44e3-b04a-82f96653e837",
   "metadata": {},
   "source": [
    "#### Пункт 3"
   ]
  },
  {
   "cell_type": "code",
   "execution_count": 20,
   "id": "644e9661-f74e-4288-8ff3-01cc9db0e06e",
   "metadata": {},
   "outputs": [
    {
     "data": {
      "image/png": "[encoded data removed]",
      "text/plain": [
       "<Figure size 576x396 with 1 Axes>"
      ]
     },
     "metadata": {},
     "output_type": "display_data"
    }
   ],
   "source": [
    "sns.histplot(davis_df[\"height\"], kde = True);"
   ]
  },
  {
   "cell_type": "code",
   "execution_count": 21,
   "id": "07500433-f59a-46e9-98ef-f54b62ebd871",
   "metadata": {},
   "outputs": [
    {
     "data": {
      "image/png": "[encoded data removed]",
      "text/plain": [
       "<Figure size 576x396 with 1 Axes>"
      ]
     },
     "metadata": {},
     "output_type": "display_data"
    }
   ],
   "source": [
    "sns.histplot(davis_df[\"weight\"], kde = True, color = \"red\");"
   ]
  },
  {
   "cell_type": "code",
   "execution_count": 22,
   "id": "5e6f5612-8819-42a6-9eac-46a81110995f",
   "metadata": {},
   "outputs": [
    {
     "data": {
      "text/plain": [
       "(  sex  weight  height  repwt  repht\n",
       " 0   M      77     182   77.0  180.0\n",
       " 3   M      68     177   70.0  175.0\n",
       " 5   M      76     170   76.0  165.0\n",
       " 6   M      76     167   77.0  165.0\n",
       " 7   M      69     186   73.0  180.0,\n",
       "    sex  weight  height  repwt  repht\n",
       " 1    F      58     161   51.0  159.0\n",
       " 2    F      53     161   54.0  158.0\n",
       " 4    F      59     157   59.0  155.0\n",
       " 12   F      51     161   52.0  158.0\n",
       " 13   F      64     168   64.0  165.0)"
      ]
     },
     "execution_count": 22,
     "metadata": {},
     "output_type": "execute_result"
    }
   ],
   "source": [
    "davis_df_men = davis_df[davis_df[\"sex\"] == 'M']\n",
    "davis_df_women = davis_df[davis_df[\"sex\"] == 'F']\n",
    "\n",
    "davis_df_men.head(), davis_df_women.head()"
   ]
  },
  {
   "cell_type": "code",
   "execution_count": 23,
   "id": "27b711ed-0c85-4e9c-828e-42f22d3061de",
   "metadata": {},
   "outputs": [
    {
     "data": {
      "image/png": "[encoded data removed]",
      "text/plain": [
       "<Figure size 576x396 with 1 Axes>"
      ]
     },
     "metadata": {},
     "output_type": "display_data"
    }
   ],
   "source": [
    "sns.histplot(davis_df_men['height'], kde = True, color = \"pink\");"
   ]
  },
  {
   "cell_type": "code",
   "execution_count": 24,
   "id": "8d398a25-72ab-4e1e-abdc-e55ef6984921",
   "metadata": {},
   "outputs": [
    {
     "data": {
      "image/png": "[encoded data removed]",
      "text/plain": [
       "<Figure size 576x396 with 1 Axes>"
      ]
     },
     "metadata": {},
     "output_type": "display_data"
    }
   ],
   "source": [
    "sns.histplot(davis_df_men[\"weight\"], kde = True, color = \"orchid\");"
   ]
  },
  {
   "cell_type": "code",
   "execution_count": 25,
   "id": "84ce4fa5-9654-4ac9-b352-56b90ebe8934",
   "metadata": {},
   "outputs": [
    {
     "data": {
      "image/png": "[encoded data removed]",
      "text/plain": [
       "<Figure size 576x396 with 1 Axes>"
      ]
     },
     "metadata": {},
     "output_type": "display_data"
    }
   ],
   "source": [
    "sns.histplot(davis_df_women[\"height\"], kde = True, color = \"green\");"
   ]
  },
  {
   "cell_type": "code",
   "execution_count": 26,
   "id": "0e331fde-f06b-453b-a32b-f02afa10c335",
   "metadata": {},
   "outputs": [
    {
     "data": {
      "image/png": "[encoded data removed]",
      "text/plain": [
       "<Figure size 576x396 with 1 Axes>"
      ]
     },
     "metadata": {},
     "output_type": "display_data"
    }
   ],
   "source": [
    "sns.histplot(davis_df_women[\"weight\"], kde = True, color = \"sienna\");"
   ]
  },
  {
   "cell_type": "markdown",
   "id": "d0f80641-708b-4392-aa5c-3af697bb305c",
   "metadata": {},
   "source": [
    "#### Пункт 4"
   ]
  },
  {
   "cell_type": "code",
   "execution_count": 27,
   "id": "90188e00-008b-4c65-99a3-590cc0a82022",
   "metadata": {},
   "outputs": [],
   "source": [
    "from sklearn.linear_model import LogisticRegression"
   ]
  },
  {
   "cell_type": "code",
   "execution_count": 28,
   "id": "f6b09c38-af4d-4540-9923-a7dfba6633bf",
   "metadata": {},
   "outputs": [
    {
     "data": {
      "text/plain": [
       "(     sex  weight  height  repwt  repht\n",
       " 179    0      68     174   68.0  173.0\n",
       " 174    0      62     168   64.0  168.0\n",
       " 151    1      47     162   47.0  160.0\n",
       " 80     1      61     165   60.0  163.0\n",
       " 195    0      74     175   71.0  175.0,\n",
       "      sex  weight  height  repwt  repht\n",
       " 177    0      66     170   67.0  165.0\n",
       " 144    1      64     171   66.0  171.0\n",
       " 54     0      64     177    NaN    NaN\n",
       " 74     1      50     166   50.0  161.0\n",
       " 51     1      56     165   57.0  163.0)"
      ]
     },
     "execution_count": 28,
     "metadata": {},
     "output_type": "execute_result"
    }
   ],
   "source": [
    "train.replace({'M': 0, 'F': 1}, inplace=True)\n",
    "test.replace({'M': 0, 'F': 1}, inplace=True)\n",
    "\n",
    "train.head(), test.head()"
   ]
  },
  {
   "cell_type": "code",
   "execution_count": 29,
   "id": "4e1c5880-8609-4545-9db5-2aeace3b2a69",
   "metadata": {},
   "outputs": [],
   "source": [
    "y_train = train[\"sex\"].to_numpy()\n",
    "X_train = train.loc[:, [\"height\", \"weight\"]].to_numpy()"
   ]
  },
  {
   "cell_type": "markdown",
   "id": "97464bca-988e-4ccd-9609-efd9cbca991b",
   "metadata": {},
   "source": [
    "##### Обучающая выборка"
   ]
  },
  {
   "cell_type": "code",
   "execution_count": 30,
   "id": "b2466dcc-bc77-4f63-a0bc-71077430625e",
   "metadata": {},
   "outputs": [
    {
     "data": {
      "text/plain": [
       "0.8993288590604027"
      ]
     },
     "execution_count": 30,
     "metadata": {},
     "output_type": "execute_result"
    }
   ],
   "source": [
    "clf = LogisticRegression().fit(X_train, y_train)\n",
    "clf.score(X_train, y_train)"
   ]
  },
  {
   "cell_type": "markdown",
   "id": "5fc88e24-211f-402c-b23e-baa805a1577f",
   "metadata": {},
   "source": [
    "##### Тестовая выборка"
   ]
  },
  {
   "cell_type": "code",
   "execution_count": 31,
   "id": "057bbe10-915d-4ff8-aec8-b8b2bbb03703",
   "metadata": {},
   "outputs": [
    {
     "data": {
      "text/plain": [
       "0.94"
      ]
     },
     "execution_count": 31,
     "metadata": {},
     "output_type": "execute_result"
    }
   ],
   "source": [
    "y_test = test[\"sex\"].to_numpy()\n",
    "X_test = test.loc[:, [\"height\", \"weight\"]].to_numpy()\n",
    "clf.score(X_test, y_test)"
   ]
  },
  {
   "cell_type": "markdown",
   "id": "947ce18c-fc39-4523-b7ec-5d87eda9b397",
   "metadata": {},
   "source": [
    "#### Пункт 5"
   ]
  },
  {
   "cell_type": "code",
   "execution_count": 32,
   "id": "a01a57ba-13d1-4fc9-998c-f5aa22dbecdd",
   "metadata": {},
   "outputs": [],
   "source": [
    "predicts = clf.predict(X_train)"
   ]
  },
  {
   "cell_type": "code",
   "execution_count": 33,
   "id": "3333d3b7-1f02-47c8-b4b9-3c5f3df777ed",
   "metadata": {},
   "outputs": [
    {
     "data": {
      "image/png": "[encoded data removed]",
      "text/plain": [
       "<Figure size 1000x1000 with 2 Axes>"
      ]
     },
     "metadata": {},
     "output_type": "display_data"
    }
   ],
   "source": [
    "figure = plt.figure(figsize=(10, 10), dpi=100)\n",
    "ax = figure.add_subplot(2, 2, 1)\n",
    "\n",
    "x1_min, x1_max = X_train[:, 0].min() - 0.5, X_train[:, 1].max()+0.5\n",
    "x2_min, x2_max = X_train[:, 0].min() - 0.5, X_train[:, 1].max()+0.5\n",
    "\n",
    "xx1, xx2 = np.mgrid[x1_min:x1_max:50j, x2_min:x2_max:50j]\n",
    "X_pred = np.column_stack([xx1.reshape(-1), xx2.reshape(-1)])\n",
    "y_pred = clf.predict(X_pred)\n",
    "\n",
    "ax.scatter(X_train[predicts == 0][:, 0], X_train[predicts == 0][:, 1], color='lime', label='M')\n",
    "ax.scatter(X_train[predicts == 1][:, 0], X_train[predicts == 1][:, 1], color='dodgerblue', label='F')\n",
    "ax.set_ylabel('weight')\n",
    "ax.set_xlabel('height')\n",
    "ax.set_title('Обучающая выборка')\n",
    "ax.legend()\n",
    "\n",
    "\n",
    "x1_min, x1_max = X_test[:, 0].min() - 0.5, X_test[:, 1].max()+0.5\n",
    "x2_min, x2_max = X_test[:, 0].min() - 0.5, X_test[:, 1].max()+0.5\n",
    "\n",
    "xx1, xx2 = np.mgrid[x1_min:x1_max:50j, x2_min:x2_max:50j]\n",
    "X_pred = np.column_stack([xx1.reshape(-1), xx2.reshape(-1)])\n",
    "y_pred = clf.predict(X_pred)\n",
    "\n",
    "\n",
    "ax = figure.add_subplot(2, 2, 2)\n",
    "\n",
    "predicts = clf.predict(X_test)\n",
    "ax.scatter(X_test[predicts == 0][:, 0], X_test[predicts == 0][:, 1], color='lime', label='M')\n",
    "ax.scatter(X_test[predicts == 1][:, 0], X_test[predicts == 1][:, 1], color='dodgerblue', label='F')\n",
    "ax.set_ylabel('weight')\n",
    "ax.set_xlabel('height')\n",
    "ax.set_title('Тестовая выборка')\n",
    "ax.legend()\n",
    "plt.show()"
   ]
  },
  {
   "cell_type": "markdown",
   "id": "ac816c30-5c41-403c-b166-af5d5ad9e733",
   "metadata": {
    "tags": []
   },
   "source": [
    "### Задание 2"
   ]
  },
  {
   "cell_type": "code",
   "execution_count": 38,
   "id": "33be6f0e-0823-491b-b5e9-9284c2947053",
   "metadata": {},
   "outputs": [],
   "source": [
    "folds_df = pd.read_excel('Folds5x2_pp.xlsx')"
   ]
  },
  {
   "cell_type": "code",
   "execution_count": 39,
   "id": "7ab75893-c1dd-4d87-9afe-e9b442d68c38",
   "metadata": {},
   "outputs": [
    {
     "data": {
      "text/html": [
       "<div>\n",
       "<style scoped>\n",
       "    .dataframe tbody tr th:only-of-type {\n",
       "        vertical-align: middle;\n",
       "    }\n",
       "\n",
       "    .dataframe tbody tr th {\n",
       "        vertical-align: top;\n",
       "    }\n",
       "\n",
       "    .dataframe thead th {\n",
       "        text-align: right;\n",
       "    }\n",
       "</style>\n",
       "<table border=\"1\" class=\"dataframe\">\n",
       "  <thead>\n",
       "    <tr style=\"text-align: right;\">\n",
       "      <th></th>\n",
       "      <th>AT</th>\n",
       "      <th>V</th>\n",
       "      <th>AP</th>\n",
       "      <th>RH</th>\n",
       "      <th>PE</th>\n",
       "    </tr>\n",
       "  </thead>\n",
       "  <tbody>\n",
       "    <tr>\n",
       "      <th>0</th>\n",
       "      <td>14.96</td>\n",
       "      <td>41.76</td>\n",
       "      <td>1024.07</td>\n",
       "      <td>73.17</td>\n",
       "      <td>463.26</td>\n",
       "    </tr>\n",
       "    <tr>\n",
       "      <th>1</th>\n",
       "      <td>25.18</td>\n",
       "      <td>62.96</td>\n",
       "      <td>1020.04</td>\n",
       "      <td>59.08</td>\n",
       "      <td>444.37</td>\n",
       "    </tr>\n",
       "    <tr>\n",
       "      <th>2</th>\n",
       "      <td>5.11</td>\n",
       "      <td>39.40</td>\n",
       "      <td>1012.16</td>\n",
       "      <td>92.14</td>\n",
       "      <td>488.56</td>\n",
       "    </tr>\n",
       "    <tr>\n",
       "      <th>3</th>\n",
       "      <td>20.86</td>\n",
       "      <td>57.32</td>\n",
       "      <td>1010.24</td>\n",
       "      <td>76.64</td>\n",
       "      <td>446.48</td>\n",
       "    </tr>\n",
       "    <tr>\n",
       "      <th>4</th>\n",
       "      <td>10.82</td>\n",
       "      <td>37.50</td>\n",
       "      <td>1009.23</td>\n",
       "      <td>96.62</td>\n",
       "      <td>473.90</td>\n",
       "    </tr>\n",
       "    <tr>\n",
       "      <th>...</th>\n",
       "      <td>...</td>\n",
       "      <td>...</td>\n",
       "      <td>...</td>\n",
       "      <td>...</td>\n",
       "      <td>...</td>\n",
       "    </tr>\n",
       "    <tr>\n",
       "      <th>9563</th>\n",
       "      <td>16.65</td>\n",
       "      <td>49.69</td>\n",
       "      <td>1014.01</td>\n",
       "      <td>91.00</td>\n",
       "      <td>460.03</td>\n",
       "    </tr>\n",
       "    <tr>\n",
       "      <th>9564</th>\n",
       "      <td>13.19</td>\n",
       "      <td>39.18</td>\n",
       "      <td>1023.67</td>\n",
       "      <td>66.78</td>\n",
       "      <td>469.62</td>\n",
       "    </tr>\n",
       "    <tr>\n",
       "      <th>9565</th>\n",
       "      <td>31.32</td>\n",
       "      <td>74.33</td>\n",
       "      <td>1012.92</td>\n",
       "      <td>36.48</td>\n",
       "      <td>429.57</td>\n",
       "    </tr>\n",
       "    <tr>\n",
       "      <th>9566</th>\n",
       "      <td>24.48</td>\n",
       "      <td>69.45</td>\n",
       "      <td>1013.86</td>\n",
       "      <td>62.39</td>\n",
       "      <td>435.74</td>\n",
       "    </tr>\n",
       "    <tr>\n",
       "      <th>9567</th>\n",
       "      <td>21.60</td>\n",
       "      <td>62.52</td>\n",
       "      <td>1017.23</td>\n",
       "      <td>67.87</td>\n",
       "      <td>453.28</td>\n",
       "    </tr>\n",
       "  </tbody>\n",
       "</table>\n",
       "<p>9568 rows × 5 columns</p>\n",
       "</div>"
      ],
      "text/plain": [
       "         AT      V       AP     RH      PE\n",
       "0     14.96  41.76  1024.07  73.17  463.26\n",
       "1     25.18  62.96  1020.04  59.08  444.37\n",
       "2      5.11  39.40  1012.16  92.14  488.56\n",
       "3     20.86  57.32  1010.24  76.64  446.48\n",
       "4     10.82  37.50  1009.23  96.62  473.90\n",
       "...     ...    ...      ...    ...     ...\n",
       "9563  16.65  49.69  1014.01  91.00  460.03\n",
       "9564  13.19  39.18  1023.67  66.78  469.62\n",
       "9565  31.32  74.33  1012.92  36.48  429.57\n",
       "9566  24.48  69.45  1013.86  62.39  435.74\n",
       "9567  21.60  62.52  1017.23  67.87  453.28\n",
       "\n",
       "[9568 rows x 5 columns]"
      ]
     },
     "execution_count": 39,
     "metadata": {},
     "output_type": "execute_result"
    }
   ],
   "source": [
    "folds_df"
   ]
  },
  {
   "cell_type": "code",
   "execution_count": 40,
   "id": "d7369242-fded-4091-8228-e13d784178dc",
   "metadata": {},
   "outputs": [],
   "source": [
    "folds_train_val, folds_test = train_test_split(folds_df, test_size=0.1)\n",
    "folds_train, folds_val = train_test_split(folds_train_val, test_size=0.1)"
   ]
  },
  {
   "cell_type": "code",
   "execution_count": 41,
   "id": "36953eb5-d269-45fc-9812-c7bc88edf4ca",
   "metadata": {},
   "outputs": [
    {
     "data": {
      "text/plain": [
       "(8611, 5)"
      ]
     },
     "execution_count": 41,
     "metadata": {},
     "output_type": "execute_result"
    }
   ],
   "source": [
    "folds_train_val.shape"
   ]
  },
  {
   "cell_type": "code",
   "execution_count": 42,
   "id": "45f7fd3f-999f-467a-9b53-3fe308ce8a3e",
   "metadata": {},
   "outputs": [
    {
     "data": {
      "text/plain": [
       "(957, 5)"
      ]
     },
     "execution_count": 42,
     "metadata": {},
     "output_type": "execute_result"
    }
   ],
   "source": [
    "folds_test.shape"
   ]
  },
  {
   "cell_type": "code",
   "execution_count": 43,
   "id": "03c795b7-f056-48e9-8c8d-d464d1c6b85a",
   "metadata": {},
   "outputs": [
    {
     "data": {
      "text/plain": [
       "(7749, 5)"
      ]
     },
     "execution_count": 43,
     "metadata": {},
     "output_type": "execute_result"
    }
   ],
   "source": [
    "folds_train.shape"
   ]
  },
  {
   "cell_type": "code",
   "execution_count": 44,
   "id": "edf59ab6-cfbd-47ad-a1d8-2c28c4f21325",
   "metadata": {},
   "outputs": [
    {
     "data": {
      "text/plain": [
       "(862, 5)"
      ]
     },
     "execution_count": 44,
     "metadata": {},
     "output_type": "execute_result"
    }
   ],
   "source": [
    "folds_val.shape"
   ]
  },
  {
   "cell_type": "code",
   "execution_count": 48,
   "id": "449e6b9e-35cc-4b54-b9ea-025f11f40341",
   "metadata": {},
   "outputs": [],
   "source": [
    "lin_reg = LinearRegression()\n",
    "X_train = folds_train.drop('PE',axis=1)\n",
    "y_train = folds_train['PE']\n",
    "X_val = folds_val.drop('PE',axis=1)\n",
    "y_val = folds_val['PE']"
   ]
  },
  {
   "cell_type": "code",
   "execution_count": 49,
   "id": "3adf4b92-639f-4168-8eea-581dcac9cceb",
   "metadata": {},
   "outputs": [
    {
     "data": {
      "text/plain": [
       "LinearRegression()"
      ]
     },
     "execution_count": 49,
     "metadata": {},
     "output_type": "execute_result"
    }
   ],
   "source": [
    "lin_reg.fit(X_train, y_train)"
   ]
  },
  {
   "cell_type": "code",
   "execution_count": 50,
   "id": "0ff73d7e-dde3-48c9-80c6-527867457d75",
   "metadata": {},
   "outputs": [],
   "source": [
    "predictions_array = lin_reg.predict(X_val)"
   ]
  },
  {
   "cell_type": "code",
   "execution_count": 54,
   "id": "f6b2e8e8-993d-4d2e-8fc8-b8f50fd4ae61",
   "metadata": {},
   "outputs": [
    {
     "data": {
      "text/plain": [
       "0.9215134781401074"
      ]
     },
     "execution_count": 54,
     "metadata": {},
     "output_type": "execute_result"
    }
   ],
   "source": [
    "r2_score(y_val, predictions_array)"
   ]
  },
  {
   "cell_type": "code",
   "execution_count": 55,
   "id": "3565c26c-89f1-4823-8743-0864a0fee473",
   "metadata": {},
   "outputs": [
    {
     "data": {
      "text/plain": [
       "23.013525286753406"
      ]
     },
     "execution_count": 55,
     "metadata": {},
     "output_type": "execute_result"
    }
   ],
   "source": [
    "mean_squared_error(y_val, predictions_array)"
   ]
  },
  {
   "cell_type": "code",
   "execution_count": 56,
   "id": "f7f5feb7-bcf7-4f4e-93d8-32f58de1fa50",
   "metadata": {},
   "outputs": [
    {
     "data": {
      "text/plain": [
       "[<matplotlib.lines.Line2D at 0x16f0f62b820>]"
      ]
     },
     "execution_count": 56,
     "metadata": {},
     "output_type": "execute_result"
    },
    {
     "data": {
      "image/png": "[encoded data removed]",
      "text/plain": [
       "<Figure size 576x396 with 1 Axes>"
      ]
     },
     "metadata": {},
     "output_type": "display_data"
    }
   ],
   "source": [
    "plt.gca().set(xlim = (420, 500),ylim = (420, 500), xlabel='Наблюдение', ylabel='Оценка')\n",
    "plt.scatter(y_val, predictions_array, s = 1)\n",
    "plt.plot(np.linspace(420,500),np.linspace(420,500), c = 'hotpink')"
   ]
  }
 ],
 "metadata": {
  "kernelspec": {
   "display_name": "Python 3 (ipykernel)",
   "language": "python",
   "name": "python3"
  },
  "language_info": {
   "codemirror_mode": {
    "name": "ipython",
    "version": 3
   },
   "file_extension": ".py",
   "mimetype": "text/x-python",
   "name": "python",
   "nbconvert_exporter": "python",
   "pygments_lexer": "ipython3",
   "version": "3.10.0"
  }
 },
 "nbformat": 4,
 "nbformat_minor": 5
}
